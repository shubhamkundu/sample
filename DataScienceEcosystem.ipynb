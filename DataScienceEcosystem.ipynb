{
 "cells": [
  {
   "cell_type": "markdown",
   "id": "448f64d4-f7ae-4238-a56f-d1422dae350b",
   "metadata": {},
   "source": [
    "# Data Science Tools and Ecosystem"
   ]
  },
  {
   "cell_type": "markdown",
   "id": "4c69a24e-5757-465d-8c09-7cc2d53349eb",
   "metadata": {},
   "source": [
    "In this notebook, Data Science Tools and Ecosystem are summarized."
   ]
  },
  {
   "cell_type": "markdown",
   "id": "51a57fbb-a3d0-4e47-a62d-757c461ed146",
   "metadata": {},
   "source": [
    "Objectives:\n",
    "- List popular languages for Data Science\n",
    "- List popular libraries for Data Science\n",
    "- List popular tools for Data Science\n",
    "- Execute Python expression\n",
    "- Convert `200 minutes` to `hours` using Python"
   ]
  },
  {
   "cell_type": "markdown",
   "id": "d67de60e-62f1-46f2-bb42-2d8f5fd5b586",
   "metadata": {},
   "source": [
    "Some of the popular languages that Data Scientists use are:\n",
    "1. Python\n",
    "2. R\n",
    "3. Julia"
   ]
  },
  {
   "cell_type": "markdown",
   "id": "26071237-cf6e-48bf-b122-480d2c4a0c4b",
   "metadata": {},
   "source": [
    "Some of the commonly used libraries used by Data Scientists include:\n",
    "1. Numpy\n",
    "2. Panda\n",
    "3. Tensorflow"
   ]
  },
  {
   "cell_type": "markdown",
   "id": "5fad5c83-af0e-451e-ab31-fee4c9906f5f",
   "metadata": {},
   "source": [
    "| Data Science Tools |\n",
    "| ------------------ |\n",
    "| Jupyter Notebook |\n",
    "| Visual Studio Code |\n",
    "| Google Colab |"
   ]
  },
  {
   "cell_type": "markdown",
   "id": "d1f110d6-78a3-4bcd-98f7-f1cc1b6df77b",
   "metadata": {},
   "source": [
    "### Below are a few examples of evaluating arithmetic expressions in Python"
   ]
  },
  {
   "cell_type": "code",
   "execution_count": 1,
   "id": "6e01d548-840f-4466-aa27-7b10695163fe",
   "metadata": {
    "tags": []
   },
   "outputs": [
    {
     "data": {
      "text/plain": [
       "17"
      ]
     },
     "execution_count": 1,
     "metadata": {},
     "output_type": "execute_result"
    }
   ],
   "source": [
    "# This a simple arithmetic expression to mutiply then add integers\n",
    "(3*4)+5"
   ]
  },
  {
   "cell_type": "code",
   "execution_count": 2,
   "id": "b0b7c789-4baa-4fb9-906c-0a59e26a7fa6",
   "metadata": {
    "tags": []
   },
   "outputs": [
    {
     "data": {
      "text/plain": [
       "3.3333333333333335"
      ]
     },
     "execution_count": 2,
     "metadata": {},
     "output_type": "execute_result"
    }
   ],
   "source": [
    "# This will convert 200 minutes to hours by diving by 60\n",
    "200/60"
   ]
  },
  {
   "cell_type": "markdown",
   "id": "4b2c04a3-09f0-418e-a655-d6ea440e2726",
   "metadata": {},
   "source": [
    "## Author\n",
    "Shubham Kundu"
   ]
  },
  {
   "cell_type": "markdown",
   "id": "6bd117dc-cca3-4083-aebe-e588dea0f762",
   "metadata": {},
   "source": [
    "## Author\n",
    "Shubham Kundu"
   ]
  },
  {
   "cell_type": "code",
   "execution_count": null,
   "id": "86b11164-149d-4f68-8c28-f7a0f551fb4b",
   "metadata": {},
   "outputs": [],
   "source": []
  }
 ],
 "metadata": {
  "kernelspec": {
   "display_name": "Python",
   "language": "python",
   "name": "conda-env-python-py"
  },
  "language_info": {
   "codemirror_mode": {
    "name": "ipython",
    "version": 3
   },
   "file_extension": ".py",
   "mimetype": "text/x-python",
   "name": "python",
   "nbconvert_exporter": "python",
   "pygments_lexer": "ipython3",
   "version": "3.7.12"
  }
 },
 "nbformat": 4,
 "nbformat_minor": 5
}
